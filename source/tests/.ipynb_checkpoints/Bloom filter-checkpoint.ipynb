{
 "cells": [
  {
   "cell_type": "code",
   "execution_count": 1,
   "id": "d2d15fa2-8e79-463a-b878-ffe7476b58a2",
   "metadata": {},
   "outputs": [],
   "source": [
    "import math\n",
    "import mmh3"
   ]
  },
  {
   "cell_type": "code",
   "execution_count": 2,
   "id": "214c7e31-8509-4b01-8fbd-2e1b4c4febf8",
   "metadata": {},
   "outputs": [],
   "source": [
    "class BloomFilter:\n",
    "    \n",
    "    def __init__(self, n, p):        \n",
    "        self.p = p\n",
    "        self.m = self.getSizeBitArray(n, p)\n",
    "        self.k = self.getHashAmount(self.m, n)        \n",
    "        self.bitarray = [0] * self.m\n",
    "        \n",
    "    def getSizeBitArray(self, n, p):    \n",
    "        m = - (n * math.log(p)) / pow(math.log(2), 2)\n",
    "        return math.ceil(m)\n",
    "    \n",
    "    def getHashAmount(self, m, n):\n",
    "        k = (m / n) * math.log(2)\n",
    "        return math.ceil(k)\n",
    "    \n",
    "    def addItems(self, items):\n",
    "        \n",
    "        for item in items:\n",
    "            for i in range(self.k):\n",
    "                # Get hashvalue's index\n",
    "                hi = mmh3.hash(item, i) % self.m\n",
    "\n",
    "                # Add bitarray index to 1\n",
    "                self.bitarray[hi] = 1\n",
    "            \n",
    "    def isInFilter(self, item):\n",
    "        '''Check if item is in filter. Return 0 if not, 1 if maybe'''\n",
    "        \n",
    "        for i in range(self.k):\n",
    "            hi = mmh3.hash(item, i) % self.m\n",
    "            \n",
    "            # If any bit is not 1, then 100% is not in the filter.\n",
    "            if self.bitarray[hi] == 0:\n",
    "                return False\n",
    "            \n",
    "        return True"
   ]
  },
  {
   "cell_type": "code",
   "execution_count": 3,
   "id": "42c116ca-9a36-400c-a3cc-d76c728f8048",
   "metadata": {},
   "outputs": [],
   "source": [
    "def validate_BloomFilter():\n",
    "    \n",
    "    # Test 1\n",
    "    ## Settings\n",
    "    n = 4\n",
    "    p = 0.01\n",
    "    bf = BloomFilter(n, p)\n",
    "\n",
    "    ## Add items to filter\n",
    "    items = ['abc', 'aaa', 'abb', 'ade']\n",
    "    bf.addItems(items)\n",
    "    \n",
    "    ## Evaluate\n",
    "    assert bf.isInFilter('aaa') == True, 'Unexpected results. Check implementation'\n",
    "    assert bf.isInFilter('ccc') == False, 'Unexpected results. Check implementation'"
   ]
  },
  {
   "cell_type": "code",
   "execution_count": 4,
   "id": "ce3c85a7-52a6-461a-8afa-16ccebeea6ad",
   "metadata": {},
   "outputs": [],
   "source": [
    "if __name__ == '__main__':\n",
    "    \n",
    "    validate_BloomFilter()"
   ]
  }
 ],
 "metadata": {
  "kernelspec": {
   "display_name": "Python 3 (ipykernel)",
   "language": "python",
   "name": "python3"
  },
  "language_info": {
   "codemirror_mode": {
    "name": "ipython",
    "version": 3
   },
   "file_extension": ".py",
   "mimetype": "text/x-python",
   "name": "python",
   "nbconvert_exporter": "python",
   "pygments_lexer": "ipython3",
   "version": "3.8.10"
  }
 },
 "nbformat": 4,
 "nbformat_minor": 5
}
