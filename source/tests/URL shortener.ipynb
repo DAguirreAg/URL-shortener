{
 "cells": [
  {
   "cell_type": "code",
   "execution_count": 1,
   "id": "6512205e-5a58-45f0-a489-587e7d3bd267",
   "metadata": {},
   "outputs": [],
   "source": [
    "def find(n, m):\n",
    "     \n",
    "    # Quotient\n",
    "    q = n//m\n",
    "     \n",
    "    # Remainder\n",
    "    r = n%m\n",
    "    \n",
    "    return q, r"
   ]
  },
  {
   "cell_type": "code",
   "execution_count": 2,
   "id": "c7e57a00-b20f-4b2e-8045-5658e0393a77",
   "metadata": {},
   "outputs": [],
   "source": [
    "def idToShortURL(id):\n",
    "    \n",
    "    map = '0123456789abcdefghijklmnopqrstuvwxyzABCDEFGHIJKLMNOPQRSTUVWXYZ'\n",
    "\n",
    "    # Get Hashvalue from ID\n",
    "    shortURL = ''\n",
    "    quotient = id\n",
    "    while quotient >= 62:\n",
    "        quotient, remainder = find(quotient, 62)\n",
    "        shortURL += map[remainder]\n",
    "    shortURL += map[quotient]\n",
    "    \n",
    "    return shortURL[len(shortURL): : -1]"
   ]
  },
  {
   "cell_type": "code",
   "execution_count": 3,
   "id": "f6a90b2a-14c5-4519-9789-dbfd13108d77",
   "metadata": {},
   "outputs": [],
   "source": [
    "def shortURLToId(shortURL):\n",
    "    \n",
    "    map = '0123456789abcdefghijklmnopqrstuvwxyzABCDEFGHIJKLMNOPQRSTUVWXYZ'\n",
    "    \n",
    "    # Get ID from Hashvalue\n",
    "    result = 0\n",
    "    i = -1\n",
    "    for c in shortURL[len(shortURL): : -1]:\n",
    "        i += 1\n",
    "        result += pow(62, i) * map.find(c)\n",
    "        \n",
    "    return result"
   ]
  },
  {
   "cell_type": "code",
   "execution_count": 6,
   "id": "4bfad923-0b17-45eb-bd61-ca0a5cc4bb97",
   "metadata": {},
   "outputs": [],
   "source": [
    "def validate_functions(ids):    \n",
    "\n",
    "    for id in ids:   \n",
    "\n",
    "        shortURL = idToShortURL(id)\n",
    "        returned_id = shortURLToId(shortURL)\n",
    "\n",
    "        assert id == returned_id, f\"ERROR. Returned id doesn't match input id: Expected: {id} | Got: {returned_id}\""
   ]
  },
  {
   "cell_type": "code",
   "execution_count": 7,
   "id": "982cac7a-c74b-424c-9883-22d5560bc0eb",
   "metadata": {},
   "outputs": [],
   "source": [
    "if __name__ == '__main__':\n",
    "    \n",
    "    ids = [62, 0, 123456, 12319841]\n",
    "    \n",
    "    validate_functions(ids)"
   ]
  }
 ],
 "metadata": {
  "kernelspec": {
   "display_name": "Python 3 (ipykernel)",
   "language": "python",
   "name": "python3"
  },
  "language_info": {
   "codemirror_mode": {
    "name": "ipython",
    "version": 3
   },
   "file_extension": ".py",
   "mimetype": "text/x-python",
   "name": "python",
   "nbconvert_exporter": "python",
   "pygments_lexer": "ipython3",
   "version": "3.8.10"
  }
 },
 "nbformat": 4,
 "nbformat_minor": 5
}
