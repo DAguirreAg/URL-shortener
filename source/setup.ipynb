{
 "cells": [
  {
   "cell_type": "code",
   "execution_count": 1,
   "id": "cef5d25c-48df-442e-a0c3-17851b74e64d",
   "metadata": {},
   "outputs": [],
   "source": [
    "from sqlalchemy import create_engine, Table, Column, Integer, String, DateTime, MetaData, ForeignKey\n",
    "from sqlalchemy.sql import func\n",
    "import datetime\n",
    "import sqlalchemy"
   ]
  },
  {
   "cell_type": "markdown",
   "id": "19b1d514-ead0-464b-9fdc-f07d75566a90",
   "metadata": {},
   "source": [
    "# Settings"
   ]
  },
  {
   "cell_type": "code",
   "execution_count": 2,
   "id": "1d61f412-127a-4381-8f26-18e34231fa60",
   "metadata": {},
   "outputs": [],
   "source": [
    "db_uri = \"sqlite:///urlShortener.db\""
   ]
  },
  {
   "cell_type": "markdown",
   "id": "63a5c83d-302a-4b90-a2a8-d1af3073f07d",
   "metadata": {},
   "source": [
    "## Table definitions"
   ]
  },
  {
   "cell_type": "code",
   "execution_count": 3,
   "id": "2421a686-c2f7-4833-9193-4e6c89744d35",
   "metadata": {},
   "outputs": [],
   "source": [
    "meta = MetaData()"
   ]
  },
  {
   "cell_type": "code",
   "execution_count": 4,
   "id": "855a9ba7-eee6-47be-a76e-f2e7890c0f8d",
   "metadata": {},
   "outputs": [],
   "source": [
    "urls = Table(\n",
    "   'urls', meta, \n",
    "   Column('id', Integer, primary_key = True), \n",
    "   Column('shortURL', String), \n",
    "   Column('longURL', String), \n",
    ")"
   ]
  },
  {
   "cell_type": "code",
   "execution_count": 5,
   "id": "5f62698f-9c18-41a4-b72d-03944f9364db",
   "metadata": {},
   "outputs": [],
   "source": [
    "transactions = Table(\n",
    "    'transactions', meta, \n",
    "    Column('id', Integer, primary_key = True), \n",
    "    Column('shortURL', String, ForeignKey('urls.shortURL', ondelete='CASCADE')), \n",
    "    #Column('shortURL', String, ForeignKey('urls.shortURL')), \n",
    "    Column('time_created', DateTime(timezone=True), server_default=func.now()),\n",
    "    Column('header', String)\n",
    ")"
   ]
  },
  {
   "cell_type": "markdown",
   "id": "2b4eb334-372a-4d78-8481-13f86b40993f",
   "metadata": {},
   "source": [
    "# Main"
   ]
  },
  {
   "cell_type": "code",
   "execution_count": 6,
   "id": "dcac08c3-8d2f-4bf1-b9ae-d7a50ebfa3eb",
   "metadata": {},
   "outputs": [],
   "source": [
    "engine = create_engine(db_uri, echo = True)"
   ]
  },
  {
   "cell_type": "code",
   "execution_count": 7,
   "id": "1d858b4f-3c13-47c4-afec-006615e3ade6",
   "metadata": {},
   "outputs": [
    {
     "name": "stdout",
     "output_type": "stream",
     "text": [
      "2022-09-17 18:07:50,361 INFO sqlalchemy.engine.Engine BEGIN (implicit)\n",
      "2022-09-17 18:07:50,362 INFO sqlalchemy.engine.Engine PRAGMA main.table_info(\"urls\")\n",
      "2022-09-17 18:07:50,363 INFO sqlalchemy.engine.Engine [raw sql] ()\n",
      "2022-09-17 18:07:50,365 INFO sqlalchemy.engine.Engine PRAGMA main.table_info(\"transactions\")\n",
      "2022-09-17 18:07:50,366 INFO sqlalchemy.engine.Engine [raw sql] ()\n",
      "2022-09-17 18:07:50,367 INFO sqlalchemy.engine.Engine PRAGMA temp.table_info(\"transactions\")\n",
      "2022-09-17 18:07:50,367 INFO sqlalchemy.engine.Engine [raw sql] ()\n",
      "2022-09-17 18:07:50,369 INFO sqlalchemy.engine.Engine \n",
      "CREATE TABLE transactions (\n",
      "\tid INTEGER NOT NULL, \n",
      "\t\"shortURL\" VARCHAR, \n",
      "\ttime_created DATETIME DEFAULT (CURRENT_TIMESTAMP), \n",
      "\tinfo VARCHAR, \n",
      "\tPRIMARY KEY (id), \n",
      "\tFOREIGN KEY(\"shortURL\") REFERENCES urls (\"shortURL\")\n",
      ")\n",
      "\n",
      "\n",
      "2022-09-17 18:07:50,370 INFO sqlalchemy.engine.Engine [no key 0.00090s] ()\n",
      "2022-09-17 18:07:50,375 INFO sqlalchemy.engine.Engine COMMIT\n"
     ]
    }
   ],
   "source": [
    "meta.create_all(engine)"
   ]
  }
 ],
 "metadata": {
  "kernelspec": {
   "display_name": "Python 3 (ipykernel)",
   "language": "python",
   "name": "python3"
  },
  "language_info": {
   "codemirror_mode": {
    "name": "ipython",
    "version": 3
   },
   "file_extension": ".py",
   "mimetype": "text/x-python",
   "name": "python",
   "nbconvert_exporter": "python",
   "pygments_lexer": "ipython3",
   "version": "3.8.10"
  }
 },
 "nbformat": 4,
 "nbformat_minor": 5
}
